{
 "cells": [
  {
   "cell_type": "markdown",
   "metadata": {},
   "source": [
    "# What's this??\n",
    "Seleniumを使ってATBBからデータを引っ張ってくる\n",
    "\n",
    "http://atbb.athome.jp/"
   ]
  },
  {
   "cell_type": "code",
   "execution_count": 1,
   "metadata": {},
   "outputs": [],
   "source": [
    "# import libraries\n",
    "import time\n",
    "import math\n",
    "import pandas as pd\n",
    "import numpy as np\n",
    "import os\n",
    "import urllib.request"
   ]
  },
  {
   "cell_type": "code",
   "execution_count": 2,
   "metadata": {},
   "outputs": [],
   "source": [
    "# import selenium libraries\n",
    "from selenium import webdriver\n",
    "from selenium.webdriver.common.by import By\n",
    "from selenium.webdriver.support.ui import WebDriverWait\n",
    "from selenium.webdriver.support import expected_conditions as EC"
   ]
  },
  {
   "cell_type": "code",
   "execution_count": 3,
   "metadata": {},
   "outputs": [],
   "source": [
    "# import original libraries\n",
    "from utils.python import atbb"
   ]
  },
  {
   "cell_type": "code",
   "execution_count": 4,
   "metadata": {},
   "outputs": [],
   "source": [
    "# variables\n",
    "path = '/Users/ryusukekimura/Google ドライブ/github/demonstration/rpa/chrome-driver-79.0.3945.36/chromedriver'\n",
    "url = 'http://atbb.athome.jp/'\n",
    "timeout = 30"
   ]
  },
  {
   "cell_type": "code",
   "execution_count": 5,
   "metadata": {},
   "outputs": [],
   "source": [
    "# create output directory\n",
    "dir_data = './data/atbb/'\n",
    "if not os.path.isdir(dir_data):\n",
    "    os.makedirs(dir_data)\n",
    "dir_img = './img/atbb/'\n",
    "if not os.path.isdir(dir_img):\n",
    "    os.makedirs(dir_img)"
   ]
  },
  {
   "cell_type": "code",
   "execution_count": 6,
   "metadata": {},
   "outputs": [],
   "source": [
    "# define output columns\n",
    "cols =  ['fetch_datetime', 'todofuken', 'shikuchoson', 'bld_name', 'room_name', 'room_madori', 'bld_address', 'access', 'num_rooms',\n",
    "              'chinryo', 'kanrihi', 'sikikin', 'reikin', 'kibo_kozo', 'menseki_tsubo', 'syunko_nengappi', 'keiyaku_kikan', 'kousinryo',\n",
    "               'torihiki_taiyo', 'parking', 'hoken', 'kanri_gaisya', 'kagi_koukan', 'kouza_furikae', 'hosyo_gaisya', 'setsubi', 'bikou']"
   ]
  },
  {
   "cell_type": "code",
   "execution_count": 23,
   "metadata": {},
   "outputs": [],
   "source": [
    "# open login page\n",
    "driver = webdriver.Chrome(executable_path=path)\n",
    "driver.get(url)"
   ]
  },
  {
   "cell_type": "code",
   "execution_count": 12,
   "metadata": {},
   "outputs": [],
   "source": [
    "# login\n",
    "## read id and password\n",
    "id, pw = atbb.read_id_pass()\n",
    "\n",
    "## input id and password\n",
    "driver.find_element_by_id('loginFormText').send_keys(id)\n",
    "driver.find_element_by_id('passFormText').send_keys(pw)\n",
    "\n",
    "## click login button\n",
    "driver.find_element_by_xpath('//*[@id=\"loginSubmit\"]').click()"
   ]
  },
  {
   "cell_type": "code",
   "execution_count": 13,
   "metadata": {},
   "outputs": [],
   "source": [
    "# click 物件検索\n",
    "atbb.wait_driver(driver, timeout, 'header')\n",
    "driver.find_element_by_xpath('//*[@id=\"header\"]/header-menu/div/nav/ul/li[1]/a').click()\n",
    "\n",
    "# click 成約事例検索\n",
    "atbb.wait_driver(driver, timeout, 'header')\n",
    "driver.find_element_by_xpath('//*[@id=\"header\"]/header-menu/div/nav/ul/li[1]/div/form/div/div[3]/div').click()"
   ]
  },
  {
   "cell_type": "code",
   "execution_count": 14,
   "metadata": {},
   "outputs": [],
   "source": [
    "# switch window\n",
    "driver.switch_to.window(driver.window_handles[-1])"
   ]
  },
  {
   "cell_type": "code",
   "execution_count": 15,
   "metadata": {},
   "outputs": [],
   "source": [
    "# 所在地検索\n",
    "## click radio button 賃貸居住用\n",
    "xpath = '/html/body/table/tbody/tr[3]/td/table/tbody/tr[1]/td[3]/form/table[2]/tbody/tr[2]/td/div[1]/label/input'\n",
    "driver.find_element_by_xpath(xpath).click()\n",
    "\n",
    "## click checkbox 東京\n",
    "xpath = '//*[@id=\"checkZenTodofuken\"]/table/tbody/tr[3]/td[2]/table/tbody/tr[1]/td[1]/label/input'\n",
    "driver.find_element_by_xpath(xpath).click()\n",
    "\n",
    "## 検索\n",
    "xpath = '//*[@id=\"searcharea\"]/div[1]/table[2]/tbody/tr[2]/td/div/table/tbody/tr/td[1]/input'\n",
    "driver.find_element_by_xpath(xpath).click()"
   ]
  },
  {
   "cell_type": "code",
   "execution_count": 16,
   "metadata": {},
   "outputs": [],
   "source": [
    "# 市区町村の選択\n",
    "xpath = '//*[@id=\"sentaku3ZenShikugun_13\"]/option[2]'\n",
    "button = driver.find_element_by_xpath(xpath)\n",
    "driver.execute_script('arguments[0].click();', button)\n",
    "\n",
    "# 検索条件指定画面へ\n",
    "xpath = '/html/body/table/tbody/tr[3]/td/table/tbody/tr[1]/td[3]/form/div[4]/input[1]'\n",
    "driver.find_element_by_xpath(xpath).click()"
   ]
  },
  {
   "cell_type": "code",
   "execution_count": 17,
   "metadata": {},
   "outputs": [
    {
     "ename": "InvalidSelectorException",
     "evalue": "Message: invalid selector: The result of the xpath expression \"/html/body/table/tbody/tr[3]/td/table/tbody/tr[1]/td[3]/form/table/tbody/tr[2]/td[2]/text()[3]\" is: [object Text]. It should be an element.\n  (Session info: chrome=80.0.3987.116)\n",
     "output_type": "error",
     "traceback": [
      "\u001b[0;31m---------------------------------------------------------------------------\u001b[0m",
      "\u001b[0;31mInvalidSelectorException\u001b[0m                  Traceback (most recent call last)",
      "\u001b[0;32m<ipython-input-17-592952f82545>\u001b[0m in \u001b[0;36m<module>\u001b[0;34m\u001b[0m\n\u001b[0;32m----> 1\u001b[0;31m \u001b[0mdriver\u001b[0m\u001b[0;34m.\u001b[0m\u001b[0mfind_element_by_xpath\u001b[0m\u001b[0;34m(\u001b[0m\u001b[0;34m'/html/body/table/tbody/tr[3]/td/table/tbody/tr[1]/td[3]/form/table/tbody/tr[2]/td[2]/text()[3]'\u001b[0m\u001b[0;34m)\u001b[0m\u001b[0;34m.\u001b[0m\u001b[0mclick\u001b[0m\u001b[0;34m(\u001b[0m\u001b[0;34m)\u001b[0m\u001b[0;34m\u001b[0m\u001b[0;34m\u001b[0m\u001b[0m\n\u001b[0m",
      "\u001b[0;32m~/anaconda3/lib/python3.7/site-packages/selenium/webdriver/remote/webdriver.py\u001b[0m in \u001b[0;36mfind_element_by_xpath\u001b[0;34m(self, xpath)\u001b[0m\n\u001b[1;32m    392\u001b[0m             \u001b[0melement\u001b[0m \u001b[0;34m=\u001b[0m \u001b[0mdriver\u001b[0m\u001b[0;34m.\u001b[0m\u001b[0mfind_element_by_xpath\u001b[0m\u001b[0;34m(\u001b[0m\u001b[0;34m'//div/td[1]'\u001b[0m\u001b[0;34m)\u001b[0m\u001b[0;34m\u001b[0m\u001b[0;34m\u001b[0m\u001b[0m\n\u001b[1;32m    393\u001b[0m         \"\"\"\n\u001b[0;32m--> 394\u001b[0;31m         \u001b[0;32mreturn\u001b[0m \u001b[0mself\u001b[0m\u001b[0;34m.\u001b[0m\u001b[0mfind_element\u001b[0m\u001b[0;34m(\u001b[0m\u001b[0mby\u001b[0m\u001b[0;34m=\u001b[0m\u001b[0mBy\u001b[0m\u001b[0;34m.\u001b[0m\u001b[0mXPATH\u001b[0m\u001b[0;34m,\u001b[0m \u001b[0mvalue\u001b[0m\u001b[0;34m=\u001b[0m\u001b[0mxpath\u001b[0m\u001b[0;34m)\u001b[0m\u001b[0;34m\u001b[0m\u001b[0;34m\u001b[0m\u001b[0m\n\u001b[0m\u001b[1;32m    395\u001b[0m \u001b[0;34m\u001b[0m\u001b[0m\n\u001b[1;32m    396\u001b[0m     \u001b[0;32mdef\u001b[0m \u001b[0mfind_elements_by_xpath\u001b[0m\u001b[0;34m(\u001b[0m\u001b[0mself\u001b[0m\u001b[0;34m,\u001b[0m \u001b[0mxpath\u001b[0m\u001b[0;34m)\u001b[0m\u001b[0;34m:\u001b[0m\u001b[0;34m\u001b[0m\u001b[0;34m\u001b[0m\u001b[0m\n",
      "\u001b[0;32m~/anaconda3/lib/python3.7/site-packages/selenium/webdriver/remote/webdriver.py\u001b[0m in \u001b[0;36mfind_element\u001b[0;34m(self, by, value)\u001b[0m\n\u001b[1;32m    976\u001b[0m         return self.execute(Command.FIND_ELEMENT, {\n\u001b[1;32m    977\u001b[0m             \u001b[0;34m'using'\u001b[0m\u001b[0;34m:\u001b[0m \u001b[0mby\u001b[0m\u001b[0;34m,\u001b[0m\u001b[0;34m\u001b[0m\u001b[0;34m\u001b[0m\u001b[0m\n\u001b[0;32m--> 978\u001b[0;31m             'value': value})['value']\n\u001b[0m\u001b[1;32m    979\u001b[0m \u001b[0;34m\u001b[0m\u001b[0m\n\u001b[1;32m    980\u001b[0m     \u001b[0;32mdef\u001b[0m \u001b[0mfind_elements\u001b[0m\u001b[0;34m(\u001b[0m\u001b[0mself\u001b[0m\u001b[0;34m,\u001b[0m \u001b[0mby\u001b[0m\u001b[0;34m=\u001b[0m\u001b[0mBy\u001b[0m\u001b[0;34m.\u001b[0m\u001b[0mID\u001b[0m\u001b[0;34m,\u001b[0m \u001b[0mvalue\u001b[0m\u001b[0;34m=\u001b[0m\u001b[0;32mNone\u001b[0m\u001b[0;34m)\u001b[0m\u001b[0;34m:\u001b[0m\u001b[0;34m\u001b[0m\u001b[0;34m\u001b[0m\u001b[0m\n",
      "\u001b[0;32m~/anaconda3/lib/python3.7/site-packages/selenium/webdriver/remote/webdriver.py\u001b[0m in \u001b[0;36mexecute\u001b[0;34m(self, driver_command, params)\u001b[0m\n\u001b[1;32m    319\u001b[0m         \u001b[0mresponse\u001b[0m \u001b[0;34m=\u001b[0m \u001b[0mself\u001b[0m\u001b[0;34m.\u001b[0m\u001b[0mcommand_executor\u001b[0m\u001b[0;34m.\u001b[0m\u001b[0mexecute\u001b[0m\u001b[0;34m(\u001b[0m\u001b[0mdriver_command\u001b[0m\u001b[0;34m,\u001b[0m \u001b[0mparams\u001b[0m\u001b[0;34m)\u001b[0m\u001b[0;34m\u001b[0m\u001b[0;34m\u001b[0m\u001b[0m\n\u001b[1;32m    320\u001b[0m         \u001b[0;32mif\u001b[0m \u001b[0mresponse\u001b[0m\u001b[0;34m:\u001b[0m\u001b[0;34m\u001b[0m\u001b[0;34m\u001b[0m\u001b[0m\n\u001b[0;32m--> 321\u001b[0;31m             \u001b[0mself\u001b[0m\u001b[0;34m.\u001b[0m\u001b[0merror_handler\u001b[0m\u001b[0;34m.\u001b[0m\u001b[0mcheck_response\u001b[0m\u001b[0;34m(\u001b[0m\u001b[0mresponse\u001b[0m\u001b[0;34m)\u001b[0m\u001b[0;34m\u001b[0m\u001b[0;34m\u001b[0m\u001b[0m\n\u001b[0m\u001b[1;32m    322\u001b[0m             response['value'] = self._unwrap_value(\n\u001b[1;32m    323\u001b[0m                 response.get('value', None))\n",
      "\u001b[0;32m~/anaconda3/lib/python3.7/site-packages/selenium/webdriver/remote/errorhandler.py\u001b[0m in \u001b[0;36mcheck_response\u001b[0;34m(self, response)\u001b[0m\n\u001b[1;32m    240\u001b[0m                 \u001b[0malert_text\u001b[0m \u001b[0;34m=\u001b[0m \u001b[0mvalue\u001b[0m\u001b[0;34m[\u001b[0m\u001b[0;34m'alert'\u001b[0m\u001b[0;34m]\u001b[0m\u001b[0;34m.\u001b[0m\u001b[0mget\u001b[0m\u001b[0;34m(\u001b[0m\u001b[0;34m'text'\u001b[0m\u001b[0;34m)\u001b[0m\u001b[0;34m\u001b[0m\u001b[0;34m\u001b[0m\u001b[0m\n\u001b[1;32m    241\u001b[0m             \u001b[0;32mraise\u001b[0m \u001b[0mexception_class\u001b[0m\u001b[0;34m(\u001b[0m\u001b[0mmessage\u001b[0m\u001b[0;34m,\u001b[0m \u001b[0mscreen\u001b[0m\u001b[0;34m,\u001b[0m \u001b[0mstacktrace\u001b[0m\u001b[0;34m,\u001b[0m \u001b[0malert_text\u001b[0m\u001b[0;34m)\u001b[0m\u001b[0;34m\u001b[0m\u001b[0;34m\u001b[0m\u001b[0m\n\u001b[0;32m--> 242\u001b[0;31m         \u001b[0;32mraise\u001b[0m \u001b[0mexception_class\u001b[0m\u001b[0;34m(\u001b[0m\u001b[0mmessage\u001b[0m\u001b[0;34m,\u001b[0m \u001b[0mscreen\u001b[0m\u001b[0;34m,\u001b[0m \u001b[0mstacktrace\u001b[0m\u001b[0;34m)\u001b[0m\u001b[0;34m\u001b[0m\u001b[0;34m\u001b[0m\u001b[0m\n\u001b[0m\u001b[1;32m    243\u001b[0m \u001b[0;34m\u001b[0m\u001b[0m\n\u001b[1;32m    244\u001b[0m     \u001b[0;32mdef\u001b[0m \u001b[0m_value_or_default\u001b[0m\u001b[0;34m(\u001b[0m\u001b[0mself\u001b[0m\u001b[0;34m,\u001b[0m \u001b[0mobj\u001b[0m\u001b[0;34m,\u001b[0m \u001b[0mkey\u001b[0m\u001b[0;34m,\u001b[0m \u001b[0mdefault\u001b[0m\u001b[0;34m)\u001b[0m\u001b[0;34m:\u001b[0m\u001b[0;34m\u001b[0m\u001b[0;34m\u001b[0m\u001b[0m\n",
      "\u001b[0;31mInvalidSelectorException\u001b[0m: Message: invalid selector: The result of the xpath expression \"/html/body/table/tbody/tr[3]/td/table/tbody/tr[1]/td[3]/form/table/tbody/tr[2]/td[2]/text()[3]\" is: [object Text]. It should be an element.\n  (Session info: chrome=80.0.3987.116)\n"
     ]
    }
   ],
   "source": [
    "driver.find_element_by_xpath('/html/body/table/tbody/tr[3]/td/table/tbody/tr[1]/td[3]/form/table/tbody/tr[2]/td[2]/text()[3]').click()"
   ]
  },
  {
   "cell_type": "code",
   "execution_count": 19,
   "metadata": {},
   "outputs": [],
   "source": [
    "# 検索結果をガーッと取ってくる\n",
    "## 賃貸マンションを選択\n",
    "driver.find_element_by_xpath('/html/body/table/tbody/tr[3]/td/table/tbody/tr[1]/td[3]/form/table/tbody/tr[1]/td[2]/input[1]').click()\n",
    "\n",
    "## 駅徒歩10分以内を選択\n",
    "driver.find_element_by_xpath('/html/body/table/tbody/tr[3]/td/table/tbody/tr[1]/td[3]/form/table/tbody/tr[2]/td[2]/input[5]').click()\n",
    "\n",
    "## 2DK/2LDK\n",
    "driver.find_element_by_xpath('/html/body/table/tbody/tr[3]/td/table/tbody/tr[1]/td[3]/form/table/tbody/tr[4]/td[2]/table/tbody/tr[2]/td[3]/input').click()\n",
    "driver.find_element_by_xpath('/html/body/table/tbody/tr[3]/td/table/tbody/tr[1]/td[3]/form/table/tbody/tr[4]/td[2]/table/tbody/tr[2]/td[2]/input').click()\n",
    "\n",
    "## 築年数10年以内\n",
    "driver.find_element_by_xpath('/html/body/table/tbody/tr[3]/td/table/tbody/tr[1]/td[3]/form/table/tbody/tr[7]/td[2]/input[8]').click()\n",
    "\n",
    "# 検索\n",
    "driver.find_element_by_xpath('/html/body/table/tbody/tr[3]/td/table/tbody/tr[1]/td[3]/form/div[1]/div/input[1]').click()"
   ]
  },
  {
   "cell_type": "code",
   "execution_count": 20,
   "metadata": {},
   "outputs": [],
   "source": [
    "# 物件詳細へ\n",
    "driver.find_element_by_xpath('//*[@id=\"shosai_0\"]').click()"
   ]
  },
  {
   "cell_type": "code",
   "execution_count": 21,
   "metadata": {},
   "outputs": [],
   "source": [
    "# extract information\n",
    "xpath = '/html/body/table/tbody/tr[3]/td/table/tbody/tr[1]/td[3]/form[2]/table[4]/tbody/tr[1]/td[2]/span'\n",
    "chinryo_touroku = driver.find_element_by_xpath(xpath).text\n",
    "\n",
    "xpath = '/html/body/table/tbody/tr[3]/td/table/tbody/tr[1]/td[3]/form[2]/table[4]/tbody/tr[1]/td[4]'\n",
    "heibei_tanka = driver.find_element_by_xpath(xpath).text\n",
    "\n",
    "xpath = '/html/body/table/tbody/tr[3]/td/table/tbody/tr[1]/td[3]/form[2]/table[4]/tbody/tr[1]/td[6]'\n",
    "koukaibi = driver.find_element_by_xpath(xpath).text\n",
    "\n",
    "xpath = '/html/body/table/tbody/tr[3]/td/table/tbody/tr[1]/td[3]/form[2]/table[4]/tbody/tr[2]/td[2]/span'\n",
    "chinryo_seiyaku = driver.find_element_by_xpath(xpath).text\n",
    "\n",
    "xpath = '/html/body/table/tbody/tr[3]/td/table/tbody/tr[1]/td[3]/form[2]/table[4]/tbody/tr[2]/td[4]'\n",
    "heibei_tanka_seiyaku = driver.find_element_by_xpath(xpath).text\n",
    "\n",
    "xpath = '/html/body/table/tbody/tr[3]/td/table/tbody/tr[1]/td[3]/form[2]/table[4]/tbody/tr[2]/td[6]'\n",
    "seiyakubi = driver.find_element_by_xpath(xpath).text\n",
    "\n",
    "xpath = '/html/body/table/tbody/tr[3]/td/table/tbody/tr[1]/td[3]/form[2]/table[5]/tbody/tr[1]/td[2]'\n",
    "bukken_syumoku = driver.find_element_by_xpath(xpath).text"
   ]
  },
  {
   "cell_type": "code",
   "execution_count": 22,
   "metadata": {},
   "outputs": [
    {
     "name": "stdout",
     "output_type": "stream",
     "text": [
      "['25.80万円', '0.46万円/㎡ ', '2019/06/11 ', '25.80万円', '0.46万円/㎡ ', '2019/06/29 ', '貸マンション ']\n"
     ]
    }
   ],
   "source": [
    "array = [chinryo_touroku, heibei_tanka, koukaibi, chinryo_seiyaku, heibei_tanka_seiyaku, seiyakubi, bukken_syumoku]\n",
    "print(array)"
   ]
  },
  {
   "cell_type": "code",
   "execution_count": null,
   "metadata": {},
   "outputs": [],
   "source": []
  }
 ],
 "metadata": {
  "kernelspec": {
   "display_name": "Python 3",
   "language": "python",
   "name": "python3"
  },
  "language_info": {
   "codemirror_mode": {
    "name": "ipython",
    "version": 3
   },
   "file_extension": ".py",
   "mimetype": "text/x-python",
   "name": "python",
   "nbconvert_exporter": "python",
   "pygments_lexer": "ipython3",
   "version": "3.7.3"
  }
 },
 "nbformat": 4,
 "nbformat_minor": 2
}
