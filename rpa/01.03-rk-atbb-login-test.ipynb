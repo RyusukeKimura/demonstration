{
 "cells": [
  {
   "cell_type": "markdown",
   "metadata": {},
   "source": [
    "# What's this??\n",
    "Seleniumを使ってATBBからデータを引っ張ってくる\n",
    "\n",
    "http://atbb.athome.jp/"
   ]
  },
  {
   "cell_type": "code",
   "execution_count": 1,
   "metadata": {},
   "outputs": [],
   "source": [
    "# import libraries\n",
    "import time\n",
    "import pandas as pd\n",
    "import numpy as np\n",
    "import os\n",
    "import urllib.request"
   ]
  },
  {
   "cell_type": "code",
   "execution_count": 2,
   "metadata": {},
   "outputs": [],
   "source": [
    "# import selenium libraries\n",
    "from selenium import webdriver\n",
    "from selenium.webdriver.common.by import By\n",
    "from selenium.webdriver.support.ui import WebDriverWait\n",
    "from selenium.webdriver.support import expected_conditions as EC"
   ]
  },
  {
   "cell_type": "code",
   "execution_count": 3,
   "metadata": {},
   "outputs": [],
   "source": [
    "# import original libraries\n",
    "from utils.python import atbb"
   ]
  },
  {
   "cell_type": "code",
   "execution_count": 4,
   "metadata": {},
   "outputs": [],
   "source": [
    "# variables\n",
    "path = '/Users/ryusukekimura/Google ドライブ/github/demonstration/rpa/chrome-driver-79.0.3945.36/chromedriver'\n",
    "url = 'http://atbb.athome.jp/'\n",
    "timeout = 15"
   ]
  },
  {
   "cell_type": "code",
   "execution_count": 5,
   "metadata": {},
   "outputs": [],
   "source": [
    "# create output directory\n",
    "dir_data = './data/atbb/'\n",
    "if not os.path.isdir(dir_data):\n",
    "    os.makedirs(dir_data)\n",
    "dir_img = './img/atbb/'\n",
    "if not os.path.isdir(dir_img):\n",
    "    os.makedirs(dir_img)"
   ]
  },
  {
   "cell_type": "code",
   "execution_count": 6,
   "metadata": {},
   "outputs": [],
   "source": [
    "# define output columns\n",
    "cols =  ['bld_name', 'room_name', 'room_madori', 'bld_address', 'access', 'num_rooms',\n",
    "              'chinryo', 'kanrihi', 'sikikin', 'reikin', 'kibo_kozo', 'menseki_tsubo', 'syunko_nengappi', 'keiyaku_kikan', 'kousinryo',\n",
    "               'torihiki_taiyo', 'parking', 'hoken', 'kanri_gaisya', 'kagi_koukan', 'kouza_furikae', 'hosyo_gaisya', 'setsubi', 'bikou']"
   ]
  },
  {
   "cell_type": "code",
   "execution_count": 7,
   "metadata": {},
   "outputs": [],
   "source": [
    "# login\n",
    "## open login page\n",
    "driver = webdriver.Chrome(executable_path=path)\n",
    "driver.get(url)\n",
    "\n",
    "## read id and password\n",
    "id, pw = atbb.read_id_pass()\n",
    "\n",
    "## input id and password\n",
    "driver.find_element_by_id('loginFormText').send_keys(id)\n",
    "driver.find_element_by_id('passFormText').send_keys(pw)\n",
    "\n",
    "## click login button\n",
    "driver.find_element_by_xpath('//*[@id=\"loginSubmit\"]').click()\n",
    "\n",
    "## wait\n",
    "time.sleep(timeout)"
   ]
  },
  {
   "cell_type": "code",
   "execution_count": null,
   "metadata": {},
   "outputs": [],
   "source": []
  },
  {
   "cell_type": "code",
   "execution_count": null,
   "metadata": {},
   "outputs": [],
   "source": [
    "# for each shikuchouson\n",
    "for i in range(1, 24):\n",
    "    print('|-- i = ' + str(i) + ' ...')\n",
    "    df = pd.DataFrame(index=[], columns=[cols])\n",
    "    driver = webdriver.Chrome(executable_path=path)\n",
    "    driver.get(url)\n",
    "    mitsui.move_to_search_page_from_top_page(driver, timeout)\n",
    "    driver.find_element_by_xpath('//*[@id=\"(1,' + str(i) + ')\"]').click()\n",
    "    mitsui.move_to_search_result_page_from_search_page(driver, timeout)\n",
    "    num_pages = int(driver.find_element_by_xpath('//*[@id=\"container\"]/section/div[2]/div[2]/div[1]/span[1]').text)\n",
    "\n",
    "    # for each page\n",
    "    for page in range(1, num_pages + 1):\n",
    "        print('  |-- processing page ' + str(page) + ' ...')\n",
    "\n",
    "        for bukken in range(1, 11):\n",
    "            print('     |-- bukken number ' + str(bukken) + ' ...')\n",
    "\n",
    "            # extract room information\n",
    "            driver.find_element_by_xpath('//*[@id=\"container\"]/section/li[' + str(bukken) + ']/div[2]/div[1]/div/h3').click()\n",
    "            time.sleep(timeout)\n",
    "            array = mitsui.extract_information(driver)\n",
    "\n",
    "            # add array to dataframe\n",
    "            record = pd.Series(array, index=df.columns)\n",
    "            df = df.append(record, ignore_index=True)\n",
    "\n",
    "            # go back to search result pages\n",
    "            driver.back()\n",
    "            time.sleep(timeout)\n",
    "\n",
    "        # move to next page\n",
    "        if page != num_pages:\n",
    "            driver.find_element_by_xpath('//*[@id=\"container\"]/section/div[1]/div/div/div[2]/div[2]/div[4]/ul/li[2]/a').click()\n",
    "            time.sleep(timeout)\n",
    "\n",
    "    # output\n",
    "    file = './data/mitsui/output' + str(i) + '.csv'\n",
    "    df.to_csv(file, index=False)\n",
    "            \n",
    "    # close driver\n",
    "    driver.close()"
   ]
  },
  {
   "cell_type": "code",
   "execution_count": null,
   "metadata": {},
   "outputs": [],
   "source": []
  }
 ],
 "metadata": {
  "kernelspec": {
   "display_name": "Python 3",
   "language": "python",
   "name": "python3"
  },
  "language_info": {
   "codemirror_mode": {
    "name": "ipython",
    "version": 3
   },
   "file_extension": ".py",
   "mimetype": "text/x-python",
   "name": "python",
   "nbconvert_exporter": "python",
   "pygments_lexer": "ipython3",
   "version": "3.7.3"
  }
 },
 "nbformat": 4,
 "nbformat_minor": 2
}
