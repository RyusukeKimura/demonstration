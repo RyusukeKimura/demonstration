{
 "cells": [
  {
   "cell_type": "markdown",
   "metadata": {},
   "source": [
    "# What's this??\n",
    "Seleniumを使って三井の賃貸のサイトからデータを引っ張ってくる\n",
    "\n",
    "https://mfhl.mitsui-chintai.co.jp/chintai/index.html"
   ]
  },
  {
   "cell_type": "code",
   "execution_count": null,
   "metadata": {},
   "outputs": [],
   "source": [
    "# import libraries\n",
    "import time\n",
    "import pandas as pd\n",
    "import numpy as np\n",
    "import os\n",
    "import urllib.request"
   ]
  },
  {
   "cell_type": "code",
   "execution_count": null,
   "metadata": {},
   "outputs": [],
   "source": [
    "# import selenium libraries\n",
    "from selenium import webdriver\n",
    "from selenium.webdriver.common.by import By\n",
    "from selenium.webdriver.support.ui import WebDriverWait\n",
    "from selenium.webdriver.support import expected_conditions as EC"
   ]
  },
  {
   "cell_type": "code",
   "execution_count": null,
   "metadata": {},
   "outputs": [],
   "source": [
    "# import original libraries\n",
    "from utils.python import mitsui"
   ]
  },
  {
   "cell_type": "code",
   "execution_count": null,
   "metadata": {},
   "outputs": [],
   "source": [
    "# variables\n",
    "path = '/Users/ryusukekimura/Google ドライブ/github/demonstration/rpa/chrome-driver-79.0.3945.36/chromedriver'\n",
    "url = 'https://mfhl.mitsui-chintai.co.jp/chintai/index.html'\n",
    "timeout = 5"
   ]
  },
  {
   "cell_type": "code",
   "execution_count": null,
   "metadata": {},
   "outputs": [],
   "source": [
    "# create output directory\n",
    "dir_data = './data/mitsui/'\n",
    "if not os.path.isdir(dir_data):\n",
    "    os.makedirs(dir_data)\n",
    "dir_img = './img/mitsui/'\n",
    "if not os.path.isdir(dir_img):\n",
    "    os.makedirs(dir_img)"
   ]
  },
  {
   "cell_type": "code",
   "execution_count": null,
   "metadata": {},
   "outputs": [],
   "source": [
    "# define output\n",
    "cols =  ['bld_name', 'room_name', 'room_madori', 'bld_address', 'access', 'num_rooms',\n",
    "              'chinryo', 'kanrihi', 'sikikin', 'reikin', 'kibo_kozo', 'menseki_tsubo', 'syunko_nengappi', 'keiyaku_kikan', 'kousinryo',\n",
    "               'torihiki_taiyo', 'parking', 'hoken', 'kanri_gaisya', 'kagi_koukan', 'kouza_furikae', 'hosyo_gaisya', 'setsubi', 'bikou']\n",
    "df = pd.DataFrame(index=[], columns=[cols])"
   ]
  },
  {
   "cell_type": "code",
   "execution_count": null,
   "metadata": {},
   "outputs": [],
   "source": [
    "# driver settings\n",
    "driver = webdriver.Chrome(executable_path=path)"
   ]
  },
  {
   "cell_type": "code",
   "execution_count": null,
   "metadata": {
    "scrolled": true
   },
   "outputs": [],
   "source": [
    "# open top page\n",
    "driver.get(url)"
   ]
  },
  {
   "cell_type": "code",
   "execution_count": null,
   "metadata": {},
   "outputs": [],
   "source": [
    "# move to search page\n",
    "xpath = '//*[@id=\"main\"]/div[1]/div[1]/div[2]/div[1]/a'\n",
    "driver.find_element_by_xpath(xpath).click()\n",
    "driver.implicitly_wait(timeout)"
   ]
  },
  {
   "cell_type": "code",
   "execution_count": null,
   "metadata": {},
   "outputs": [],
   "source": [
    "# click check box\n",
    "i = 1\n",
    "xpath = '//*[@id=\"(1,' + str(i) + ')\"]'\n",
    "driver.find_element_by_xpath(xpath).click()"
   ]
  },
  {
   "cell_type": "code",
   "execution_count": null,
   "metadata": {},
   "outputs": [],
   "source": [
    "# move to search result page\n",
    "xpath = '//*[@id=\"active\"]'\n",
    "driver.find_element_by_xpath(xpath).click()\n",
    "time.sleep(timeout)"
   ]
  },
  {
   "cell_type": "code",
   "execution_count": null,
   "metadata": {},
   "outputs": [],
   "source": [
    "# get number of search result pages\n",
    "xpath = '//*[@id=\"container\"]/section/div[2]/div[2]/div[1]/span[1]'\n",
    "num_pages = int(driver.find_element_by_xpath(xpath).text)"
   ]
  },
  {
   "cell_type": "code",
   "execution_count": null,
   "metadata": {},
   "outputs": [],
   "source": [
    "# for each page\n",
    "for page in range(1, num_pages + 1):\n",
    "    print('|-- processing page ' + str(page) + ' ...')\n",
    "    \n",
    "    for bukken in range(1, 11):\n",
    "        print('   |-- bukken number ' + str(bukken) + ' ...')\n",
    "        \n",
    "        # extract room information\n",
    "        xpath = '//*[@id=\"container\"]/section/li[' + str(bukken) + ']/div[2]/div[1]/div/h3'\n",
    "        driver.find_element_by_xpath(xpath).click()\n",
    "        time.sleep(timeout)\n",
    "        array = mitsui.extract_information(driver)\n",
    "        \n",
    "        # add array to dataframe\n",
    "        record = pd.Series(array, index=df.columns)\n",
    "        df = df.append(record, ignore_index=True)\n",
    "\n",
    "        # go back to search result pages\n",
    "        driver.back()\n",
    "        time.sleep(timeout)\n",
    "        \n",
    "    # move to next page\n",
    "    if page != num_pages:\n",
    "        xpath = '//*[@id=\"container\"]/section/div[1]/div/div/div[2]/div[2]/div[4]/ul/li[2]/a'\n",
    "        driver.find_element_by_xpath(xpath).click()\n",
    "        driver.implicitly_wait(timeout)"
   ]
  },
  {
   "cell_type": "code",
   "execution_count": null,
   "metadata": {},
   "outputs": [],
   "source": [
    "driver.back()"
   ]
  },
  {
   "cell_type": "code",
   "execution_count": null,
   "metadata": {},
   "outputs": [],
   "source": [
    "# print output\n",
    "df"
   ]
  },
  {
   "cell_type": "code",
   "execution_count": null,
   "metadata": {},
   "outputs": [],
   "source": [
    "# close driver\n",
    "#driver.close()"
   ]
  },
  {
   "cell_type": "code",
   "execution_count": null,
   "metadata": {},
   "outputs": [],
   "source": [
    "# output\n",
    "file = './data/mitsui/output.csv'\n",
    "df.to_csv(file, index=False)"
   ]
  }
 ],
 "metadata": {
  "kernelspec": {
   "display_name": "Python 3",
   "language": "python",
   "name": "python3"
  },
  "language_info": {
   "codemirror_mode": {
    "name": "ipython",
    "version": 3
   },
   "file_extension": ".py",
   "mimetype": "text/x-python",
   "name": "python",
   "nbconvert_exporter": "python",
   "pygments_lexer": "ipython3",
   "version": "3.7.3"
  }
 },
 "nbformat": 4,
 "nbformat_minor": 2
}
