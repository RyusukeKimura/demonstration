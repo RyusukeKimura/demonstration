{
 "cells": [
  {
   "cell_type": "markdown",
   "metadata": {},
   "source": [
    "### Memo\n",
    "- latitude : 緯度\n",
    "- longtitude : 経度 \n",
    "\n",
    "### Reference\n",
    "- https://qiita.com/paulxll/items/7bc4a5b0529a8d784673"
   ]
  },
  {
   "cell_type": "code",
   "execution_count": 1,
   "metadata": {},
   "outputs": [],
   "source": [
    "# Import Libraries\n",
    "import pandas as pd\n",
    "import numpy as np\n",
    "import requests\n",
    "from bs4 import BeautifulSoup\n",
    "import time\n",
    "from tqdm import tqdm"
   ]
  },
  {
   "cell_type": "code",
   "execution_count": 2,
   "metadata": {},
   "outputs": [],
   "source": [
    "# Function\n",
    "def get_lat_lon_from_address(address):\n",
    "    \"\"\"\n",
    "    address_lにlistの形で住所を入れてあげると、latlonsという入れ子上のリストで緯度経度のリストを返す関数。\n",
    "    >>>>get_lat_lon_from_address('東京都文京区本郷7-3-1')\n",
    "    '35.712056', '139.762775'\n",
    "    \"\"\"\n",
    "    url = 'http://www.geocoding.jp/api/'\n",
    "    latlons = []\n",
    "    payload = {\"v\": 1.1, 'q': address}\n",
    "    r = requests.get(url, params=payload)\n",
    "    ret = BeautifulSoup(r.content,'lxml')\n",
    "    if ret.find('error'):\n",
    "        ## raise ValueError(f\"Invalid address submitted. {address}\")\n",
    "        lat, lon = np.nan, np.nan\n",
    "    else:\n",
    "        lat, lon = ret.find('lat').string, ret.find('lng').string\n",
    "        lat, lon = float(lat), float(lon)\n",
    "        time.sleep(5)\n",
    "    return lat, lon"
   ]
  },
  {
   "cell_type": "code",
   "execution_count": 3,
   "metadata": {},
   "outputs": [
    {
     "name": "stdout",
     "output_type": "stream",
     "text": [
      "35.714163 139.762102\n"
     ]
    }
   ],
   "source": [
    "# Test\n",
    "lat, lon = get_lat_lon_from_address('東京都文京区本郷7-3-1')\n",
    "print(lat, lon)"
   ]
  },
  {
   "cell_type": "code",
   "execution_count": 4,
   "metadata": {},
   "outputs": [
    {
     "name": "stdout",
     "output_type": "stream",
     "text": [
      "1 / 3 : 東京都文京区本郷7-3-1    緯度：35.714163    経度：139.762102\n",
      "2 / 3 : asdfasdfasdfasfda    緯度：nan    経度：nan\n",
      "3 / 3 : 東京都文京区本郷7-3-3    緯度：35.711515    経度：139.76393\n"
     ]
    }
   ],
   "source": [
    "# List Test\n",
    "address_list = ['東京都文京区本郷7-3-1', 'asdfasdfasdfasfda', '東京都文京区本郷7-3-3']\n",
    "i, n_list = 1, len(address_list)\n",
    "for address in address_list:\n",
    "    lat, lon = get_lat_lon_from_address(address)\n",
    "    print(str(i)  + ' / ' + str(n_list) + ' : '  + address + '    緯度：' + str(lat) + '    経度：' + str(lon))\n",
    "    i += 1"
   ]
  },
  {
   "cell_type": "code",
   "execution_count": 6,
   "metadata": {},
   "outputs": [
    {
     "name": "stdout",
     "output_type": "stream",
     "text": [
      "1 / 3325 : 東京都中野区中央5丁目    緯度：35.699867    経度：139.66498\n",
      "2 / 3325 : 東京都中野区中央5丁目    緯度：35.699867    経度：139.66498\n",
      "3 / 3325 : 東京都中野区中央5丁目    緯度：35.699867    経度：139.66498\n",
      "4 / 3325 : 東京都杉並区高円寺南4丁目    緯度：nan    経度：nan\n",
      "5 / 3325 : 東京都中野区中央5丁目    緯度：35.699867    経度：139.66498\n",
      "6 / 3325 : 東京都中野区野方1丁目    緯度：35.710544    経度：139.657326\n",
      "7 / 3325 : 東京都杉並区高円寺南1丁目    緯度：35.699594    経度：139.658601\n",
      "8 / 3325 : 東京都中野区中央3丁目    緯度：35.700021    経度：139.67391\n",
      "9 / 3325 : 東京都中野区上高田1丁目    緯度：nan    経度：nan\n",
      "10 / 3325 : 東京都中野区若宮1丁目    緯度：35.718095    経度：139.649035\n",
      "11 / 3325 : 東京都中野区中央2丁目    緯度：35.699584    経度：139.6771\n"
     ]
    },
    {
     "ename": "KeyboardInterrupt",
     "evalue": "",
     "output_type": "error",
     "traceback": [
      "\u001b[0;31m---------------------------------------------------------------------------\u001b[0m",
      "\u001b[0;31mKeyboardInterrupt\u001b[0m                         Traceback (most recent call last)",
      "\u001b[0;32m<ipython-input-6-ed4903acfd83>\u001b[0m in \u001b[0;36m<module>\u001b[0;34m\u001b[0m\n\u001b[1;32m     10\u001b[0m \u001b[0;31m## Main\u001b[0m\u001b[0;34m\u001b[0m\u001b[0;34m\u001b[0m\u001b[0;34m\u001b[0m\u001b[0m\n\u001b[1;32m     11\u001b[0m \u001b[0;32mfor\u001b[0m \u001b[0maddress\u001b[0m \u001b[0;32min\u001b[0m \u001b[0maddress_list\u001b[0m\u001b[0;34m:\u001b[0m\u001b[0;34m\u001b[0m\u001b[0;34m\u001b[0m\u001b[0m\n\u001b[0;32m---> 12\u001b[0;31m     \u001b[0mlat\u001b[0m\u001b[0;34m,\u001b[0m \u001b[0mlon\u001b[0m \u001b[0;34m=\u001b[0m \u001b[0mget_lat_lon_from_address\u001b[0m\u001b[0;34m(\u001b[0m\u001b[0maddress\u001b[0m\u001b[0;34m)\u001b[0m\u001b[0;34m\u001b[0m\u001b[0;34m\u001b[0m\u001b[0m\n\u001b[0m\u001b[1;32m     13\u001b[0m     \u001b[0mido_list\u001b[0m\u001b[0;34m.\u001b[0m\u001b[0mappend\u001b[0m\u001b[0;34m(\u001b[0m\u001b[0mlat\u001b[0m\u001b[0;34m)\u001b[0m\u001b[0;34m,\u001b[0m \u001b[0mkeido_list\u001b[0m\u001b[0;34m.\u001b[0m\u001b[0mappend\u001b[0m\u001b[0;34m(\u001b[0m\u001b[0mlon\u001b[0m\u001b[0;34m)\u001b[0m\u001b[0;34m\u001b[0m\u001b[0;34m\u001b[0m\u001b[0m\n\u001b[1;32m     14\u001b[0m     \u001b[0mprint\u001b[0m\u001b[0;34m(\u001b[0m\u001b[0mstr\u001b[0m\u001b[0;34m(\u001b[0m\u001b[0mi\u001b[0m \u001b[0;34m+\u001b[0m \u001b[0;36m1\u001b[0m\u001b[0;34m)\u001b[0m  \u001b[0;34m+\u001b[0m \u001b[0;34m' / '\u001b[0m \u001b[0;34m+\u001b[0m \u001b[0mstr\u001b[0m\u001b[0;34m(\u001b[0m\u001b[0mn_list\u001b[0m\u001b[0;34m)\u001b[0m \u001b[0;34m+\u001b[0m \u001b[0;34m' : '\u001b[0m  \u001b[0;34m+\u001b[0m \u001b[0maddress\u001b[0m \u001b[0;34m+\u001b[0m \u001b[0;34m'    緯度：'\u001b[0m \u001b[0;34m+\u001b[0m \u001b[0mstr\u001b[0m\u001b[0;34m(\u001b[0m\u001b[0mlat\u001b[0m\u001b[0;34m)\u001b[0m \u001b[0;34m+\u001b[0m \u001b[0;34m'    経度：'\u001b[0m \u001b[0;34m+\u001b[0m \u001b[0mstr\u001b[0m\u001b[0;34m(\u001b[0m\u001b[0mlon\u001b[0m\u001b[0;34m)\u001b[0m\u001b[0;34m)\u001b[0m\u001b[0;34m\u001b[0m\u001b[0;34m\u001b[0m\u001b[0m\n",
      "\u001b[0;32m<ipython-input-2-138c26d4f5f3>\u001b[0m in \u001b[0;36mget_lat_lon_from_address\u001b[0;34m(address)\u001b[0m\n\u001b[1;32m     17\u001b[0m         \u001b[0mlat\u001b[0m\u001b[0;34m,\u001b[0m \u001b[0mlon\u001b[0m \u001b[0;34m=\u001b[0m \u001b[0mret\u001b[0m\u001b[0;34m.\u001b[0m\u001b[0mfind\u001b[0m\u001b[0;34m(\u001b[0m\u001b[0;34m'lat'\u001b[0m\u001b[0;34m)\u001b[0m\u001b[0;34m.\u001b[0m\u001b[0mstring\u001b[0m\u001b[0;34m,\u001b[0m \u001b[0mret\u001b[0m\u001b[0;34m.\u001b[0m\u001b[0mfind\u001b[0m\u001b[0;34m(\u001b[0m\u001b[0;34m'lng'\u001b[0m\u001b[0;34m)\u001b[0m\u001b[0;34m.\u001b[0m\u001b[0mstring\u001b[0m\u001b[0;34m\u001b[0m\u001b[0;34m\u001b[0m\u001b[0m\n\u001b[1;32m     18\u001b[0m         \u001b[0mlat\u001b[0m\u001b[0;34m,\u001b[0m \u001b[0mlon\u001b[0m \u001b[0;34m=\u001b[0m \u001b[0mfloat\u001b[0m\u001b[0;34m(\u001b[0m\u001b[0mlat\u001b[0m\u001b[0;34m)\u001b[0m\u001b[0;34m,\u001b[0m \u001b[0mfloat\u001b[0m\u001b[0;34m(\u001b[0m\u001b[0mlon\u001b[0m\u001b[0;34m)\u001b[0m\u001b[0;34m\u001b[0m\u001b[0;34m\u001b[0m\u001b[0m\n\u001b[0;32m---> 19\u001b[0;31m         \u001b[0mtime\u001b[0m\u001b[0;34m.\u001b[0m\u001b[0msleep\u001b[0m\u001b[0;34m(\u001b[0m\u001b[0;36m5\u001b[0m\u001b[0;34m)\u001b[0m\u001b[0;34m\u001b[0m\u001b[0;34m\u001b[0m\u001b[0m\n\u001b[0m\u001b[1;32m     20\u001b[0m     \u001b[0;32mreturn\u001b[0m \u001b[0mlat\u001b[0m\u001b[0;34m,\u001b[0m \u001b[0mlon\u001b[0m\u001b[0;34m\u001b[0m\u001b[0;34m\u001b[0m\u001b[0m\n",
      "\u001b[0;31mKeyboardInterrupt\u001b[0m: "
     ]
    }
   ],
   "source": [
    "# CSV\n",
    "## Read Data\n",
    "df = pd.read_csv('input.csv')\n",
    "\n",
    "## Declare Variables\n",
    "ido_list, keido_list = [], []\n",
    "address_list = df['住所'].values\n",
    "i, n_list = 0, len(address_list)\n",
    "\n",
    "## Main\n",
    "for address in address_list:\n",
    "    lat, lon = get_lat_lon_from_address(address)\n",
    "    ido_list.append(lat), keido_list.append(lon)\n",
    "    print(str(i + 1)  + ' / ' + str(n_list) + ' : '  + address + '    緯度：' + str(lat) + '    経度：' + str(lon))\n",
    "    i += 1\n",
    "    \n",
    "df['ido'],  df['keido'] = ido_list, keido_list\n",
    "\n",
    "## Show Results\n",
    "print(df)\n",
    "\n",
    "## Write Data\n",
    "df.to_csv('output.csv', index=False, encoding='utf_8')"
   ]
  },
  {
   "cell_type": "code",
   "execution_count": null,
   "metadata": {},
   "outputs": [],
   "source": []
  }
 ],
 "metadata": {
  "kernelspec": {
   "display_name": "Python 3",
   "language": "python",
   "name": "python3"
  },
  "language_info": {
   "codemirror_mode": {
    "name": "ipython",
    "version": 3
   },
   "file_extension": ".py",
   "mimetype": "text/x-python",
   "name": "python",
   "nbconvert_exporter": "python",
   "pygments_lexer": "ipython3",
   "version": "3.7.3"
  }
 },
 "nbformat": 4,
 "nbformat_minor": 2
}
