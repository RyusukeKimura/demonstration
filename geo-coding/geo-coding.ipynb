{
 "cells": [
  {
   "cell_type": "markdown",
   "metadata": {},
   "source": [
    "### Memo\n",
    "- latitude : 緯度\n",
    "- longtitude : 経度 \n",
    "\n",
    "### Reference\n",
    "- https://qiita.com/paulxll/items/7bc4a5b0529a8d784673"
   ]
  },
  {
   "cell_type": "code",
   "execution_count": 1,
   "metadata": {},
   "outputs": [],
   "source": [
    "# Import Libraries\n",
    "import pandas as pd\n",
    "import numpy as np\n",
    "import requests\n",
    "from bs4 import BeautifulSoup\n",
    "import time\n",
    "from tqdm import tqdm"
   ]
  },
  {
   "cell_type": "code",
   "execution_count": 2,
   "metadata": {},
   "outputs": [],
   "source": [
    "# Function\n",
    "def get_lat_lon_from_address(address):\n",
    "    \"\"\"\n",
    "    address_lにlistの形で住所を入れてあげると、latlonsという入れ子上のリストで緯度経度のリストを返す関数。\n",
    "    >>>>get_lat_lon_from_address('東京都文京区本郷7-3-1')\n",
    "    '35.712056', '139.762775'\n",
    "    \"\"\"\n",
    "    url = 'http://www.geocoding.jp/api/'\n",
    "    latlons = []\n",
    "    payload = {\"v\": 1.1, 'q': address}\n",
    "    r = requests.get(url, params=payload)\n",
    "    ret = BeautifulSoup(r.content,'lxml')\n",
    "    if ret.find('error'):\n",
    "        ## raise ValueError(f\"Invalid address submitted. {address}\")\n",
    "        lat, lon = np.nan, np.nan\n",
    "    else:\n",
    "        lat, lon = ret.find('lat').string, ret.find('lng').string\n",
    "        lat, lon = float(lat), float(lon)\n",
    "        time.sleep(5)\n",
    "    return lat, lon"
   ]
  },
  {
   "cell_type": "code",
   "execution_count": 3,
   "metadata": {},
   "outputs": [
    {
     "name": "stdout",
     "output_type": "stream",
     "text": [
      "35.714163 139.762102\n"
     ]
    }
   ],
   "source": [
    "# Test\n",
    "lat, lon = get_lat_lon_from_address('東京都文京区本郷7-3-1')\n",
    "print(lat, lon)"
   ]
  },
  {
   "cell_type": "code",
   "execution_count": 4,
   "metadata": {},
   "outputs": [
    {
     "name": "stdout",
     "output_type": "stream",
     "text": [
      "1 / 3 : 東京都文京区本郷7-3-1    緯度：35.714163    経度：139.762102\n",
      "2 / 3 : asdfasdfasdfasfda    緯度：nan    経度：nan\n",
      "3 / 3 : 東京都文京区本郷7-3-3    緯度：35.711515    経度：139.76393\n"
     ]
    }
   ],
   "source": [
    "# List Test\n",
    "address_list = ['東京都文京区本郷7-3-1', 'asdfasdfasdfasfda', '東京都文京区本郷7-3-3']\n",
    "i, n_list = 1, len(address_list)\n",
    "for address in address_list:\n",
    "    lat, lon = get_lat_lon_from_address(address)\n",
    "    print(str(i)  + ' / ' + str(n_list) + ' : '  + address + '    緯度：' + str(lat) + '    経度：' + str(lon))\n",
    "    i += 1"
   ]
  },
  {
   "cell_type": "code",
   "execution_count": 5,
   "metadata": {},
   "outputs": [
    {
     "name": "stdout",
     "output_type": "stream",
     "text": [
      "1 / 5 : 東京都文京区本郷7-3-1    緯度：35.714163    経度：139.762102\n",
      "2 / 5 : asdfasdasfasdfa    緯度：nan    経度：nan\n",
      "3 / 5 : 東京都文京区本郷7-3-3    緯度：35.711515    経度：139.76393\n",
      "4 / 5 : アイウエオかきくけこ    緯度：35.563951    経度：139.715984\n",
      "5 / 5 : 東京都文京区本郷7-3-5    緯度：35.711515    経度：139.76393\n",
      "                住所        ido       keido\n",
      "0    東京都文京区本郷7-3-1  35.714163  139.762102\n",
      "1  asdfasdasfasdfa        NaN         NaN\n",
      "2    東京都文京区本郷7-3-3  35.711515  139.763930\n",
      "3       アイウエオかきくけこ  35.563951  139.715984\n",
      "4    東京都文京区本郷7-3-5  35.711515  139.763930\n"
     ]
    }
   ],
   "source": [
    "# CSV\n",
    "## Read Data\n",
    "df = pd.read_csv('input.csv')\n",
    "\n",
    "## Declare Variables\n",
    "ido_list, keido_list = [], []\n",
    "address_list = df['住所'].values\n",
    "i, n_list = 0, len(address_list)\n",
    "\n",
    "## Main\n",
    "for address in address_list:\n",
    "    lat, lon = get_lat_lon_from_address(address)\n",
    "    ido_list.append(lat), keido_list.append(lon)\n",
    "    print(str(i + 1)  + ' / ' + str(n_list) + ' : '  + address + '    緯度：' + str(lat) + '    経度：' + str(lon))\n",
    "    i += 1\n",
    "    \n",
    "df['ido'],  df['keido'] = ido_list, keido_list\n",
    "\n",
    "## Show Results\n",
    "print(df)\n",
    "\n",
    "## Write Data\n",
    "df.to_csv('output.csv', index=False, encoding='utf_8')"
   ]
  },
  {
   "cell_type": "code",
   "execution_count": null,
   "metadata": {},
   "outputs": [],
   "source": []
  }
 ],
 "metadata": {
  "kernelspec": {
   "display_name": "Python 3",
   "language": "python",
   "name": "python3"
  },
  "language_info": {
   "codemirror_mode": {
    "name": "ipython",
    "version": 3
   },
   "file_extension": ".py",
   "mimetype": "text/x-python",
   "name": "python",
   "nbconvert_exporter": "python",
   "pygments_lexer": "ipython3",
   "version": "3.7.3"
  }
 },
 "nbformat": 4,
 "nbformat_minor": 2
}
