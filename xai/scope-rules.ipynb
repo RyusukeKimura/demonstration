{
 "cells": [
  {
   "cell_type": "markdown",
   "metadata": {},
   "source": [
    "# Iris Data\n",
    "-------------"
   ]
  },
  {
   "cell_type": "code",
   "execution_count": 1,
   "metadata": {},
   "outputs": [
    {
     "name": "stderr",
     "output_type": "stream",
     "text": [
      "/Users/ryusukekimura/anaconda3/lib/python3.7/site-packages/sklearn/externals/six.py:31: DeprecationWarning: The module is deprecated in version 0.21 and will be removed in version 0.23 since we've dropped support for Python 2.7. Please rely on the official version of six (https://pypi.org/project/six/).\n",
      "  \"(https://pypi.org/project/six/).\", DeprecationWarning)\n"
     ]
    },
    {
     "name": "stdout",
     "output_type": "stream",
     "text": [
      "Rules for iris setosa\n",
      "('petal_length <= 2.449999988079071', (1.0, 1.0, 21))\n",
      "('petal_width <= 0.800000011920929', (1.0, 1.0, 27))\n",
      "\n",
      "====================\n",
      "\n",
      "Rules for iris versicolor\n",
      "('petal_length <= 5.049999952316284 and petal_length > 2.449999988079071 and petal_width <= 1.75', (1.0, 0.975609756097561, 1))\n",
      "('petal_length <= 4.75 and petal_width > 0.75', (1.0, 0.9024390243902439, 1))\n",
      "('petal_length <= 4.75 and petal_length > 2.449999988079071', (1.0, 0.8837209302325582, 1))\n",
      "\n",
      "====================\n",
      "\n",
      "Rules for iris virginica\n",
      "('petal_width > 1.75', (0.9821002891436328, 0.9045403644763288, 9))\n",
      "('petal_length > 4.75 and petal_width > 1.75', (0.9743589743589743, 0.8837209302325582, 1))\n",
      "('petal_length > 4.950000047683716', (0.9651372019793072, 0.867109634551495, 3))\n",
      "\n",
      "====================\n",
      "\n"
     ]
    }
   ],
   "source": [
    "from sklearn.datasets import load_iris\n",
    "from skrules import SkopeRules\n",
    "\n",
    "dataset = load_iris()\n",
    "feature_names = ['sepal_length', 'sepal_width', 'petal_length', 'petal_width']\n",
    "clf = SkopeRules(max_depth_duplication=2,\n",
    "                 n_estimators=30,\n",
    "                 precision_min=0.3,\n",
    "                 recall_min=0.1,\n",
    "                 feature_names=feature_names)\n",
    "\n",
    "for idx, species in enumerate(dataset.target_names):\n",
    "    X, y = dataset.data, dataset.target\n",
    "    clf.fit(X, y == idx)\n",
    "    rules = clf.rules_[0:3]\n",
    "    print(\"Rules for iris\", species)\n",
    "    for rule in rules:\n",
    "        print(rule)\n",
    "    print()\n",
    "    print(20*'=')\n",
    "    print()"
   ]
  },
  {
   "cell_type": "code",
   "execution_count": 2,
   "metadata": {},
   "outputs": [
    {
     "data": {
      "text/plain": [
       "array(['setosa', 'versicolor', 'virginica'], dtype='<U10')"
      ]
     },
     "execution_count": 2,
     "metadata": {},
     "output_type": "execute_result"
    }
   ],
   "source": [
    "dataset.target_names"
   ]
  },
  {
   "cell_type": "markdown",
   "metadata": {},
   "source": [
    "# Boston Data\n",
    "-------------"
   ]
  },
  {
   "cell_type": "code",
   "execution_count": 3,
   "metadata": {},
   "outputs": [],
   "source": [
    "%matplotlib inline"
   ]
  },
  {
   "cell_type": "code",
   "execution_count": 4,
   "metadata": {},
   "outputs": [
    {
     "data": {
      "image/png": "[encoded data removed]",
      "text/plain": [
       "<Figure size 432x288 with 1 Axes>"
      ]
     },
     "metadata": {
      "needs_background": "light"
     },
     "output_type": "display_data"
    }
   ],
   "source": [
    "from sklearn.datasets import load_boston\n",
    "from sklearn.metrics import precision_recall_curve\n",
    "from matplotlib import pyplot as plt\n",
    "from skrules import SkopeRules\n",
    "\n",
    "dataset = load_boston()\n",
    "clf = SkopeRules(max_depth_duplication=None,\n",
    "                 n_estimators=30,\n",
    "                 precision_min=0.2,\n",
    "                 recall_min=0.01,\n",
    "                 feature_names=dataset.feature_names)\n",
    "\n",
    "X, y = dataset.data, dataset.target > 25\n",
    "X_train, y_train = X[:len(y)//2], y[:len(y)//2]\n",
    "X_test, y_test = X[len(y)//2:], y[len(y)//2:]\n",
    "clf.fit(X_train, y_train)\n",
    "y_score = clf.score_top_rules(X_test) # Get a risk score for each test example\n",
    "precision, recall, _ = precision_recall_curve(y_test, y_score)\n",
    "plt.plot(recall, precision)\n",
    "plt.xlabel('Recall')\n",
    "plt.ylabel('Precision')\n",
    "plt.title('Precision Recall curve')\n",
    "plt.show()"
   ]
  }
 ],
 "metadata": {
  "kernelspec": {
   "display_name": "Python 3",
   "language": "python",
   "name": "python3"
  },
  "language_info": {
   "codemirror_mode": {
    "name": "ipython",
    "version": 3
   },
   "file_extension": ".py",
   "mimetype": "text/x-python",
   "name": "python",
   "nbconvert_exporter": "python",
   "pygments_lexer": "ipython3",
   "version": "3.7.3"
  }
 },
 "nbformat": 4,
 "nbformat_minor": 2
}
