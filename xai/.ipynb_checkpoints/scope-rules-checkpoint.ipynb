{
 "cells": [
  {
   "cell_type": "markdown",
   "metadata": {},
   "source": [
    "# Scope Rules for classification\n",
    "-------------"
   ]
  },
  {
   "cell_type": "code",
   "execution_count": 1,
   "metadata": {},
   "outputs": [
    {
     "name": "stderr",
     "output_type": "stream",
     "text": [
      "/Users/ryusukekimura/anaconda3/lib/python3.7/site-packages/sklearn/externals/six.py:31: DeprecationWarning: The module is deprecated in version 0.21 and will be removed in version 0.23 since we've dropped support for Python 2.7. Please rely on the official version of six (https://pypi.org/project/six/).\n",
      "  \"(https://pypi.org/project/six/).\", DeprecationWarning)\n"
     ]
    },
    {
     "name": "stdout",
     "output_type": "stream",
     "text": [
      "Rules for iris setosa\n",
      "('petal_width <= 0.800000011920929', (1.0, 1.0, 28))\n",
      "('petal_length <= 2.449999988079071', (1.0, 1.0, 25))\n",
      "\n",
      "====================\n",
      "\n",
      "Rules for iris versicolor\n",
      "('petal_length <= 5.049999952316284 and petal_width <= 1.75 and petal_width > 0.800000011920929', (0.9555555555555556, 1.0, 1))\n",
      "('petal_length <= 4.75 and petal_length > 2.449999988079071', (0.9852941176470589, 0.8864221364221364, 2))\n",
      "('petal_length <= 4.75 and petal_width > 0.7000000029802322', (1.0, 0.8723404255319149, 1))\n",
      "\n",
      "====================\n",
      "\n",
      "Rules for iris virginica\n",
      "('petal_width > 1.75', (0.9832989336085312, 0.9111311405213844, 5))\n",
      "('petal_length > 4.8500001430511475 and petal_width > 1.75', (1.0, 0.8587357868973263, 41))\n",
      "('petal_length > 4.950000047683716', (0.9722222222222222, 0.8536585365853658, 1))\n",
      "\n",
      "====================\n",
      "\n"
     ]
    }
   ],
   "source": [
    "from sklearn.datasets import load_iris\n",
    "from skrules import SkopeRules\n",
    "\n",
    "dataset = load_iris()\n",
    "feature_names = ['sepal_length', 'sepal_width', 'petal_length', 'petal_width']\n",
    "clf = SkopeRules(max_depth_duplication=2,\n",
    "                 n_estimators=30,\n",
    "                 precision_min=0.3,\n",
    "                 recall_min=0.1,\n",
    "                 feature_names=feature_names)\n",
    "\n",
    "for idx, species in enumerate(dataset.target_names):\n",
    "    X, y = dataset.data, dataset.target\n",
    "    clf.fit(X, y == idx)\n",
    "    rules = clf.rules_[0:3]\n",
    "    print(\"Rules for iris\", species)\n",
    "    for rule in rules:\n",
    "        print(rule)\n",
    "    print()\n",
    "    print(20*'=')\n",
    "    print()"
   ]
  },
  {
   "cell_type": "markdown",
   "metadata": {},
   "source": [
    "# Scope Rules for regression\n",
    "-------------"
   ]
  },
  {
   "cell_type": "code",
   "execution_count": null,
   "metadata": {},
   "outputs": [],
   "source": []
  }
 ],
 "metadata": {
  "kernelspec": {
   "display_name": "Python 3",
   "language": "python",
   "name": "python3"
  },
  "language_info": {
   "codemirror_mode": {
    "name": "ipython",
    "version": 3
   },
   "file_extension": ".py",
   "mimetype": "text/x-python",
   "name": "python",
   "nbconvert_exporter": "python",
   "pygments_lexer": "ipython3",
   "version": "3.7.3"
  }
 },
 "nbformat": 4,
 "nbformat_minor": 2
}
