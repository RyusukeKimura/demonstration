{
 "cells": [
  {
   "cell_type": "markdown",
   "metadata": {},
   "source": [
    "# References\n",
    "- https://hmmlearn.readthedocs.io/en/latest/tutorial.html\n",
    "- http://keik-117.hatenablog.com/entry/2016/07/05/213903\n",
    "- https://sites.google.com/site/ryunosukehm/study/ml-with-python/impact-ss2017/hmm_toy_example\n",
    "- \n",
    "\n",
    "# Memo\n",
    "- Anaconda環境ならここからやろう　\n",
    "https://anaconda.org/search?q=hmmlearn"
   ]
  },
  {
   "cell_type": "code",
   "execution_count": 19,
   "metadata": {},
   "outputs": [],
   "source": [
    "from hmmlearn import hmm\n",
    "model = hmm.MultinomialHMM(n_components=2)"
   ]
  },
  {
   "cell_type": "code",
   "execution_count": 20,
   "metadata": {},
   "outputs": [],
   "source": [
    "# Import Libraries\n",
    "import pandas as pd\n",
    "import numpy as np\n",
    "import matplotlib.pyplot as plt\n",
    "%matplotlib inline"
   ]
  },
  {
   "cell_type": "code",
   "execution_count": 21,
   "metadata": {},
   "outputs": [
    {
     "data": {
      "text/plain": [
       "[Text(0, 0, 'Tail'), Text(0, 0, 'Head')]"
      ]
     },
     "execution_count": 21,
     "metadata": {},
     "output_type": "execute_result"
    },
    {
     "data": {
      "image/png": "[encoded data removed]",
      "text/plain": [
       "<Figure size 432x288 with 1 Axes>"
      ]
     },
     "metadata": {},
     "output_type": "display_data"
    }
   ],
   "source": [
    "plt.style.use('ggplot')\n",
    "X = np.empty((0,1), int)\n",
    "for i in range(0,50):\n",
    "    X = np.append(X, np.array([[np.random.binomial(1, p=0.99)]]),axis=0)\n",
    "for i in range(0,50):\n",
    "    X = np.append(X, np.array([[np.random.binomial(1, p=0.01)]]),axis=0)\n",
    "plt.plot(X)\n",
    "plt.xlabel('Trial')\n",
    "plt.yticks((0,1))\n",
    "ax = plt.gca()\n",
    "ax.set_yticklabels(['Tail','Head'])"
   ]
  },
  {
   "cell_type": "code",
   "execution_count": 25,
   "metadata": {},
   "outputs": [
    {
     "data": {
      "text/plain": [
       "[Text(0, 0, 'Fair'), Text(0, 0, 'Cheating')]"
      ]
     },
     "execution_count": 25,
     "metadata": {},
     "output_type": "execute_result"
    },
    {
     "data": {
      "image/png": "[encoded data removed]",
      "text/plain": [
       "<Figure size 432x288 with 1 Axes>"
      ]
     },
     "metadata": {},
     "output_type": "display_data"
    }
   ],
   "source": [
    "model.fit(X)\n",
    "L,Z = model.decode(X)\n",
    "plt.plot(Z)\n",
    "plt.xlabel('Trial')\n",
    "plt.yticks((0,1))\n",
    "ax = plt.gca()\n",
    "ax.set_yticklabels(['Fair','Cheating'])"
   ]
  },
  {
   "cell_type": "code",
   "execution_count": 23,
   "metadata": {},
   "outputs": [
    {
     "name": "stdout",
     "output_type": "stream",
     "text": [
      "[[9.99999994e-01 6.12005502e-09]\n",
      " [6.04011693e-09 9.99999994e-01]]\n"
     ]
    }
   ],
   "source": [
    "print(model.emissionprob_)"
   ]
  },
  {
   "cell_type": "code",
   "execution_count": 28,
   "metadata": {},
   "outputs": [
    {
     "data": {
      "text/plain": [
       "[Text(0, 0, 'Fair'), Text(0, 0, 'Cheating')]"
      ]
     },
     "execution_count": 28,
     "metadata": {},
     "output_type": "execute_result"
    },
    {
     "data": {
      "image/png": "[encoded data removed]",
      "text/plain": [
       "<Figure size 432x288 with 1 Axes>"
      ]
     },
     "metadata": {},
     "output_type": "display_data"
    }
   ],
   "source": [
    "X1 = [[0.5], [1.0], [-1.0], [0.42], [0.24]]\n",
    "X2 = [[2.4], [4.2], [0.5], [-0.24]]\n",
    "\n",
    "X = np.concatenate([X1, X2])\n",
    "lengths = [len(X1), len(X2)]\n",
    "\n",
    "model = hmm.GaussianHMM(n_components=2).fit(X, lengths)\n",
    "\n",
    "model.fit(X)\n",
    "L,Z = model.decode(X)\n",
    "plt.plot(Z)\n",
    "plt.xlabel('Trial')\n",
    "plt.yticks((0,1))\n",
    "ax = plt.gca()\n",
    "ax.set_yticklabels(['Fair','Cheating'])"
   ]
  },
  {
   "cell_type": "code",
   "execution_count": null,
   "metadata": {},
   "outputs": [],
   "source": []
  }
 ],
 "metadata": {
  "kernelspec": {
   "display_name": "Python 3",
   "language": "python",
   "name": "python3"
  },
  "language_info": {
   "codemirror_mode": {
    "name": "ipython",
    "version": 3
   },
   "file_extension": ".py",
   "mimetype": "text/x-python",
   "name": "python",
   "nbconvert_exporter": "python",
   "pygments_lexer": "ipython3",
   "version": "3.7.3"
  }
 },
 "nbformat": 4,
 "nbformat_minor": 2
}
