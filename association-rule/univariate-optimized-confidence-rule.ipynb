{
 "cells": [
  {
   "cell_type": "code",
   "execution_count": 1,
   "metadata": {},
   "outputs": [],
   "source": [
    "# import libraries\n",
    "import pandas as pd\n",
    "import numpy as np\n",
    "import itertools\n",
    "from sklearn import datasets\n",
    "import plotly\n",
    "plotly.offline.init_notebook_mode(connected=False)"
   ]
  },
  {
   "cell_type": "code",
   "execution_count": 2,
   "metadata": {},
   "outputs": [],
   "source": [
    "# load data\n",
    "iris = datasets.load_iris()"
   ]
  },
  {
   "cell_type": "code",
   "execution_count": 3,
   "metadata": {},
   "outputs": [],
   "source": [
    "# get univariate variable\n",
    "target = iris.target\n",
    "uni = iris.data[:,1]  # sepal length"
   ]
  },
  {
   "cell_type": "code",
   "execution_count": 4,
   "metadata": {},
   "outputs": [],
   "source": [
    "# set parameters\n",
    "N = len(uni)\n",
    "target_class = 2\n",
    "minsup = 0.2\n",
    "interval = 100\n",
    "uni_min, uni_max, uni_int = min(uni), max(uni), (max(uni) - min(uni)) / interval\n",
    "I = np.arange(uni_min, uni_max, uni_int) # I: Interval"
   ]
  },
  {
   "cell_type": "code",
   "execution_count": 5,
   "metadata": {},
   "outputs": [],
   "source": [
    "# create all interval\n",
    "comb = np.array(list(itertools.product(I, I)))\n",
    "comb = comb[comb[:, 0] <= comb[:, 1], :]"
   ]
  },
  {
   "cell_type": "code",
   "execution_count": 6,
   "metadata": {},
   "outputs": [
    {
     "name": "stderr",
     "output_type": "stream",
     "text": [
      "/Users/ryusukekimura/.pyenv/versions/anaconda3-4.0.0/lib/python3.7/site-packages/ipykernel_launcher.py:7: RuntimeWarning: invalid value encountered in true_divide\n",
      "  import sys\n"
     ]
    }
   ],
   "source": [
    "# main\n",
    "res = pd.DataFrame(columns=['s', 't', 'interval', 'count', 'hit', 'support', 'confidence'])\n",
    "for s,t in comb:\n",
    "    flg = (uni >= s) & (uni <= t) # FIXME: ここって両側閉区間でいいんだっけ？\n",
    "    target_I, uni_I = target[flg], uni[flg]\n",
    "    count_I, hit_I = len(uni_I), len(target_I[target_I == target_class])\n",
    "    sup, conf = np.true_divide(count_I, N), np.true_divide(hit_I, count_I) # NOTE: ゼロ割だとnanを返す\n",
    "    \n",
    "    # append result\n",
    "    if sup >= minsup:\n",
    "        res = res.append({'s': s, 't': t, 'interval': t - s, 'count': count_I, 'hit': hit_I, 'support': sup, 'confidence': conf}, ignore_index=True)"
   ]
  },
  {
   "cell_type": "code",
   "execution_count": 7,
   "metadata": {},
   "outputs": [],
   "source": [
    "# write all results\n",
    "res.to_csv('univariate-optimized-confidence-rule.csv', index=False)"
   ]
  },
  {
   "cell_type": "code",
   "execution_count": 8,
   "metadata": {},
   "outputs": [],
   "source": [
    "# get max confidence\n",
    "res = res[res.confidence == res.confidence.max()]\n",
    "res = res[res.interval == res.interval.max()]"
   ]
  },
  {
   "cell_type": "code",
   "execution_count": 9,
   "metadata": {},
   "outputs": [
    {
     "data": {
      "text/html": [
       "<div>\n",
       "<style scoped>\n",
       "    .dataframe tbody tr th:only-of-type {\n",
       "        vertical-align: middle;\n",
       "    }\n",
       "\n",
       "    .dataframe tbody tr th {\n",
       "        vertical-align: top;\n",
       "    }\n",
       "\n",
       "    .dataframe thead th {\n",
       "        text-align: right;\n",
       "    }\n",
       "</style>\n",
       "<table border=\"1\" class=\"dataframe\">\n",
       "  <thead>\n",
       "    <tr style=\"text-align: right;\">\n",
       "      <th></th>\n",
       "      <th>s</th>\n",
       "      <th>t</th>\n",
       "      <th>interval</th>\n",
       "      <th>count</th>\n",
       "      <th>hit</th>\n",
       "      <th>support</th>\n",
       "      <th>confidence</th>\n",
       "    </tr>\n",
       "  </thead>\n",
       "  <tbody>\n",
       "    <tr>\n",
       "      <th>1161</th>\n",
       "      <td>2.408</td>\n",
       "      <td>2.888</td>\n",
       "      <td>0.48</td>\n",
       "      <td>36.0</td>\n",
       "      <td>18.0</td>\n",
       "      <td>0.24</td>\n",
       "      <td>0.5</td>\n",
       "    </tr>\n",
       "  </tbody>\n",
       "</table>\n",
       "</div>"
      ],
      "text/plain": [
       "          s      t  interval  count   hit  support  confidence\n",
       "1161  2.408  2.888      0.48   36.0  18.0     0.24         0.5"
      ]
     },
     "execution_count": 9,
     "metadata": {},
     "output_type": "execute_result"
    }
   ],
   "source": [
    "res"
   ]
  },
  {
   "cell_type": "code",
   "execution_count": 6,
   "metadata": {},
   "outputs": [
    {
     "data": {
      "text/plain": [
       "16.0"
      ]
     },
     "execution_count": 6,
     "metadata": {},
     "output_type": "execute_result"
    }
   ],
   "source": [
    "20 ** 4 / 10 ** 4"
   ]
  }
 ],
 "metadata": {
  "kernelspec": {
   "display_name": "Python 3.7.4 64-bit ('anaconda3-4.0.0': conda)",
   "language": "python",
   "name": "python37464bitanaconda3400condae579c6dfd2ea439f9500adb69652f8e6"
  },
  "language_info": {
   "codemirror_mode": {
    "name": "ipython",
    "version": 3
   },
   "file_extension": ".py",
   "mimetype": "text/x-python",
   "name": "python",
   "nbconvert_exporter": "python",
   "pygments_lexer": "ipython3",
   "version": "3.7.4"
  }
 },
 "nbformat": 4,
 "nbformat_minor": 2
}
